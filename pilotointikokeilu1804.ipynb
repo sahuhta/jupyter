{
  "metadata": {
    "language_info": {
      "codemirror_mode": {
        "name": "python",
        "version": 3
      },
      "file_extension": ".py",
      "mimetype": "text/x-python",
      "name": "python",
      "nbconvert_exporter": "python",
      "pygments_lexer": "ipython3",
      "version": "3.8"
    },
    "kernelspec": {
      "name": "python",
      "display_name": "Python (Pyodide)",
      "language": "python"
    }
  },
  "nbformat_minor": 4,
  "nbformat": 4,
  "cells": [
    {
      "cell_type": "markdown",
      "source": "# Hajontakuvio, eng. *scatterplot*",
      "metadata": {
        "tags": []
      }
    },
    {
      "cell_type": "markdown",
      "source": "## Yleistä tietoa",
      "metadata": {}
    },
    {
      "cell_type": "markdown",
      "source": "Olet saapunut Jupyter-palveluun, jossa voit interaktiivisesti harjoitella datan visualisointia Python-kielellä. Tässä Jupyter-notebookissa pääset tekemään erilaisia tehtäviä, joiden parissa voit työskennellä niin pitkään kuin haluat. Kun koet olevasi valmis jossain tehtävässä, siirry keskusteluun agentin kanssa ja kerro hänelle minkä tehtävän teit. Agentin vastattua voit antaa hänelle tehtävässä tuottamasi koodin tarkistettavaksi. ",
      "metadata": {}
    },
    {
      "cell_type": "markdown",
      "source": "Alla esimerkki pelkistetyn hajontakuvion luomiseen tarvittavasta Python-koodista. Koodin alla näkyy tuotettu kuvio. Tähän tapaan voit tuottaa vastauksia alla oleviin kysymyksiin.",
      "metadata": {}
    },
    {
      "cell_type": "code",
      "source": "import matplotlib.pyplot as plt\nimport pandas as pd\n\nx = [5,7,8,7,2,17,2,9,4,11,12,9,6]\ny = [99,86,87,88,111,86,103,87,94,78,77,85,86]\n\nplt.scatter(x, y)\nplt.show()",
      "metadata": {
        "trusted": true
      },
      "execution_count": null,
      "outputs": []
    },
    {
      "cell_type": "markdown",
      "source": "**Tehtävä 1: Järjestä seuraavat koodirivit alla olevaan laatikkoon siten, että ne muodostavat hajontakuvion.**",
      "metadata": {}
    },
    {
      "cell_type": "code",
      "source": "plt.scatter(x=num, y=dec)\ndata = pd.read_csv('NoiseClassroomDataset.csv')\ndec = data['Decibels']\nimport pandas as pd\nnum = data['Num_students']\nimport matplotlib.pyplot as plt",
      "metadata": {
        "trusted": true
      },
      "execution_count": null,
      "outputs": []
    },
    {
      "cell_type": "code",
      "source": "",
      "metadata": {},
      "execution_count": null,
      "outputs": []
    }
  ]
}