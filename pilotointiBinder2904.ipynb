{
  "metadata": {
    "language_info": {
      "codemirror_mode": {
        "name": "python",
        "version": 3
      },
      "file_extension": ".py",
      "mimetype": "text/x-python",
      "name": "python",
      "nbconvert_exporter": "python",
      "pygments_lexer": "ipython3",
      "version": "3.8"
    },
    "kernelspec": {
      "name": "python",
      "display_name": "Python (Pyodide)",
      "language": "python"
    }
  },
  "nbformat_minor": 4,
  "nbformat": 4,
  "cells": [
    {
      "cell_type": "markdown",
      "source": "# Tervetuloa harjoittelemaan datan visualisointia!",
      "metadata": {
        "tags": []
      }
    },
    {
      "cell_type": "markdown",
      "source": "Olet saapunut Jupyter-palveluun, jossa voit interaktiivisesti harjoitella datan visualisointia Python-kielellä. Tässä Jupyter-notebookissa pääset tekemään erilaisia tehtäviä, joiden parissa voit työskennellä niin pitkään kuin haluat. Kun koet olevasi valmis jossain tehtävässä, siirry keskusteluun agentin kanssa ja kerro hänelle minkä tehtävän teit. Agentin vastattua voit antaa hänelle tehtävässä tuottamasi koodin tarkistettavaksi. ",
      "metadata": {}
    },
    {
      "cell_type": "markdown",
      "source": "## Hajontakuvio, eng. *scatterplot*",
      "metadata": {}
    },
    {
      "cell_type": "markdown",
      "source": "Alla esimerkki pelkistetyn hajontakuvion luomiseen tarvittavasta Python-koodista. Koodin alla näkyy tuotettu kuvio. Tähän tapaan voit tuottaa vastauksia alla oleviin kysymyksiin.",
      "metadata": {}
    },
    {
      "cell_type": "code",
      "source": "import matplotlib.pyplot as plt\n\nx = [5,7,8,7,2,17,2,9,4,11,12,9,6]\ny = [99,86,87,88,111,86,103,87,94,78,77,85,86]\n\nplt.scatter(x, y)\nplt.show()",
      "metadata": {
        "trusted": true
      },
      "execution_count": 8,
      "outputs": [
        {
          "output_type": "display_data",
          "data": {
            "text/plain": "<Figure size 640x480 with 1 Axes>",
            "image/png": "[encoded data removed]"
          },
          "metadata": {}
        }
      ]
    },
    {
      "cell_type": "markdown",
      "source": "***Jotta hajontakuviota voidaan luoda tuodusta aineistosta, on ensiksi ladattava tarvittavat kirjastot sitä varten. Tähän riittää, että ajat kerran seuraavat \"pip install\" -alkuiset rivit, jolloin kirjastot ovat käytössäsi tässä Jupyter-notebookissa koko kokeilun ajan.***",
      "metadata": {}
    },
    {
      "cell_type": "code",
      "source": "pip install pandas",
      "metadata": {},
      "execution_count": null,
      "outputs": []
    },
    {
      "cell_type": "code",
      "source": "pip install matplotlib",
      "metadata": {},
      "execution_count": null,
      "outputs": []
    },
    {
      "cell_type": "markdown",
      "source": "**Tehtävä 1: Järjestä seuraavat koodirivit alla olevaan laatikkoon siten, että ne muodostavat hajontakuvion.**",
      "metadata": {}
    },
    {
      "cell_type": "markdown",
      "source": "**plt.scatter(x=kirjoitus, y=luku)\\\nplt.xlabel('kirjoitustaito')\\\ndata = pd.read_csv('StudentsPerformance.csv')\\\nluku = data['reading score']\\\nimport pandas as pd\\\nplt.show()\\\nkirjoitus = data['writing score']\\\nimport matplotlib.pyplot as plt\\\nplt.title('Kirjoitus- ja lukutaidon arvosanat')\\\nplt.ylabel('lukutaito')**",
      "metadata": {}
    },
    {
      "cell_type": "code",
      "source": "#Tehtävän 1 vastauslaatikko. Voit kokeilla ajaa koodia näkymän yläreunassa olevasta run-napista (kolmio).",
      "metadata": {
        "trusted": true
      },
      "execution_count": 3,
      "outputs": []
    },
    {
      "cell_type": "markdown",
      "source": "**Tehtävä 2: Muodosta StudentsPerformance.csv tiedostosta hajontakuvio, joka edustaa matematiikan ja lukutaidon arvosanojen välistä suhdetta. (vinkki: pääset hyvin alkuun seuraamalla tehtävän 1 vastaustasi)**",
      "metadata": {}
    },
    {
      "cell_type": "code",
      "source": "#Tehtävän 2 vastauslaatikko",
      "metadata": {
        "trusted": true
      },
      "execution_count": 5,
      "outputs": []
    },
    {
      "cell_type": "markdown",
      "source": "**Tehtävä 3: Tutki, minkälainen kuvio matematiikan ja lukutaidon arvosanojen muuttujista syntyi. Pohdi, minkälainen korrelaatio näiden kahden muuttujan välillä mahdollisesti on? Voit kirjoittaa ajatuksiasi alla olevaan laatikkoon.**",
      "metadata": {}
    },
    {
      "cell_type": "raw",
      "source": "",
      "metadata": {}
    },
    {
      "cell_type": "markdown",
      "source": "**Tehtävä 4: Tee vastaavanlainen hajontakuvio samasta aineistosta, mutta tutki tällä kertaa matematiikan ja kirjoitustaidon arvosanojen välistä suhdetta. Lisää tuotettuun graafiin kuvaava otsikko ja varmista, että muuttujaotsikot näkyvät myös.**",
      "metadata": {}
    },
    {
      "cell_type": "code",
      "source": "#Tehtävän 3 vastauslaatikko",
      "metadata": {
        "trusted": true
      },
      "execution_count": 6,
      "outputs": []
    },
    {
      "cell_type": "markdown",
      "source": "**Tehtävä 5: Käytä samaa aineistoa ja laske korrelaatiokerroin matematiikan ja lukutaidon arvosanojen välisen suhteen osalta.**",
      "metadata": {}
    },
    {
      "cell_type": "code",
      "source": "#Tehtävän 5 vastauslaatikko",
      "metadata": {
        "trusted": true
      },
      "execution_count": 7,
      "outputs": []
    },
    {
      "cell_type": "code",
      "source": "",
      "metadata": {},
      "execution_count": null,
      "outputs": []
    }
  ]
}